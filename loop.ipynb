{
 "cells": [
  {
   "cell_type": "markdown",
   "id": "920f83f9",
   "metadata": {},
   "source": [
    "# For-loop"
   ]
  },
  {
   "cell_type": "code",
   "execution_count": 1,
   "id": "779fe61d",
   "metadata": {},
   "outputs": [
    {
     "name": "stdout",
     "output_type": "stream",
     "text": [
      "word: example, length: 7\n",
      "word: python, length: 6\n",
      "word: apple, length: 5\n",
      "word: javascript, length: 10\n"
     ]
    }
   ],
   "source": [
    "words = [\"example\", \"python\", \"apple\", \"javascript\"]\n",
    "\n",
    "for w in words:\n",
    "    print(f\"word: {w}, length: {len(w)}\")"
   ]
  },
  {
   "cell_type": "markdown",
   "id": "2e2c228f",
   "metadata": {},
   "source": [
    "### Different technique"
   ]
  },
  {
   "cell_type": "markdown",
   "id": "5e6461f1",
   "metadata": {},
   "source": [
    "> #### range(n)\n",
    "\n",
    "- this will loop from 0 for n times, or until n-1."
   ]
  },
  {
   "cell_type": "code",
   "execution_count": 2,
   "id": "7e80d337",
   "metadata": {},
   "outputs": [
    {
     "name": "stdout",
     "output_type": "stream",
     "text": [
      "i = 0\n",
      "i = 1\n",
      "i = 2\n",
      "i = 3\n",
      "i = 4\n"
     ]
    }
   ],
   "source": [
    "for i in range(5):\n",
    "    print(\"i =\", i)"
   ]
  },
  {
   "cell_type": "markdown",
   "id": "2551692d",
   "metadata": {},
   "source": [
    "> #### range(a, b)\n",
    "\n",
    "- this will loop from a to b-1."
   ]
  },
  {
   "cell_type": "code",
   "execution_count": 5,
   "id": "2dfb4f7c",
   "metadata": {},
   "outputs": [
    {
     "name": "stdout",
     "output_type": "stream",
     "text": [
      "i = 5\n",
      "i = 6\n",
      "i = 7\n",
      "i = 8\n",
      "i = 9\n"
     ]
    }
   ],
   "source": [
    "for i in range(5, 10):\n",
    "    print(\"i =\", i)"
   ]
  },
  {
   "cell_type": "markdown",
   "id": "fbe3f62e",
   "metadata": {},
   "source": [
    "> #### range(a, b, c)\n",
    "\n",
    "- this will loop from a to b-1 by incrementing by c."
   ]
  },
  {
   "cell_type": "code",
   "execution_count": 16,
   "id": "6c297337",
   "metadata": {},
   "outputs": [
    {
     "name": "stdout",
     "output_type": "stream",
     "text": [
      "i = 0\n",
      "i = 3\n",
      "i = 6\n",
      "i = 9\n"
     ]
    }
   ],
   "source": [
    "for i in range(0, 12, 3):\n",
    "    print(\"i =\", i)\n",
    "    \n",
    "# 12 won't print out because the loop here has range until 11 since counting from 0"
   ]
  },
  {
   "cell_type": "code",
   "execution_count": 11,
   "id": "03d2f6b2",
   "metadata": {},
   "outputs": [
    {
     "name": "stdout",
     "output_type": "stream",
     "text": [
      "i = -10\n",
      "i = -40\n",
      "i = -70\n"
     ]
    }
   ],
   "source": [
    "# also works with negative number\n",
    "\n",
    "for i in range(-10, -100, -30):\n",
    "    print(\"i =\", i)"
   ]
  },
  {
   "cell_type": "markdown",
   "id": "4e95fc58",
   "metadata": {},
   "source": [
    "### Loop through list and tuple"
   ]
  },
  {
   "cell_type": "code",
   "execution_count": 13,
   "id": "8e4d722a",
   "metadata": {},
   "outputs": [
    {
     "name": "stdout",
     "output_type": "stream",
     "text": [
      "list1: [5, 6, 7, 8, 9]\n",
      "\n",
      "==========\n",
      "\n",
      "index: 0, value: 5\n",
      "index: 1, value: 6\n",
      "index: 2, value: 7\n",
      "index: 3, value: 8\n",
      "index: 4, value: 9\n"
     ]
    }
   ],
   "source": [
    "list1 = list(range(5, 10))\n",
    "\n",
    "print(\"list1:\", list1)\n",
    "print(\"\\n==========\\n\")\n",
    "\n",
    "\n",
    "# use enumerate() to get the index of the list.\n",
    "for index, value in enumerate(list1):\n",
    "    print(f\"index: {index}, value: {value}\")"
   ]
  },
  {
   "cell_type": "markdown",
   "id": "2e89cf5c",
   "metadata": {},
   "source": [
    "### Loop multiple sequences at the same time"
   ]
  },
  {
   "cell_type": "code",
   "execution_count": 19,
   "id": "c2ba3ab9",
   "metadata": {},
   "outputs": [
    {
     "name": "stdout",
     "output_type": "stream",
     "text": [
      "list_a: (5) [1, 4, 7, 10, 13]\n",
      "list_b: (8) [4, 5, 6, 7, 8, 9, 10, 11]\n",
      "\n",
      "\n",
      "\n",
      "a: 1, b: 4\n",
      "a: 4, b: 5\n",
      "a: 7, b: 6\n",
      "a: 10, b: 7\n",
      "a: 13, b: 8\n"
     ]
    }
   ],
   "source": [
    "list_a = list(range(1, 15, 3))\n",
    "list_b = list(range(4, 12))\n",
    "\n",
    "print(f\"list_a: ({len(list_a)}) {list_a}\")\n",
    "print(f\"list_b: ({len(list_b)}) {list_b}\")\n",
    "print(\"\\n\\n\")\n",
    "\n",
    "# use zip() to loop multiple sequences\n",
    "# it ends the loop when the shortest list complete loop.\n",
    "for a, b in zip(list_a, list_b):\n",
    "    print(f\"a: {a}, b: {b}\")"
   ]
  },
  {
   "cell_type": "markdown",
   "id": "30e89108",
   "metadata": {},
   "source": [
    "### Loop through sorted sequence"
   ]
  },
  {
   "cell_type": "code",
   "execution_count": 21,
   "id": "8c158062",
   "metadata": {},
   "outputs": [
    {
     "name": "stdout",
     "output_type": "stream",
     "text": [
      "unordered: {'pear', 'banana', 'orange', 'apple'}\n",
      "v = apple\n",
      "v = banana\n",
      "v = orange\n",
      "v = pear\n"
     ]
    }
   ],
   "source": [
    "basket = {'apple', 'orange', 'apple', 'pear', 'orange', 'banana'}\n",
    "print(\"unordered:\", basket)\n",
    "\n",
    "for v in sorted(basket):\n",
    "    print(\"v =\", v)"
   ]
  },
  {
   "cell_type": "markdown",
   "id": "2075b18b",
   "metadata": {},
   "source": [
    "### Reverse the sequence"
   ]
  },
  {
   "cell_type": "code",
   "execution_count": 26,
   "id": "464607da",
   "metadata": {},
   "outputs": [
    {
     "name": "stdout",
     "output_type": "stream",
     "text": [
      "list1: [5, 6, 7, 8, 9]\n",
      "V = 9\n",
      "V = 8\n",
      "V = 7\n",
      "V = 6\n",
      "V = 5\n"
     ]
    }
   ],
   "source": [
    "list1 = list(range(5, 10))\n",
    "print(\"list1:\", list1)\n",
    "\n",
    "for v in reversed(list1):\n",
    "    print(\"V =\", v)"
   ]
  },
  {
   "cell_type": "code",
   "execution_count": 29,
   "id": "baac3eb9",
   "metadata": {},
   "outputs": [
    {
     "name": "stdout",
     "output_type": "stream",
     "text": [
      "original list1: [1, 2, 3, 4, 5]\n",
      "\n",
      "\n",
      "\n",
      "original list2: [9, 5, 7, 8, 6]\n",
      "copied list2: [5, 6, 7, 8, 9]\n"
     ]
    }
   ],
   "source": [
    "# difference between list.sort() and sorted()\n",
    "\n",
    "# sort() will make a change on the list \n",
    "list1 = [5, 3, 1, 4, 2]\n",
    "list1.sort()\n",
    "print(\"original list1:\", list1)\n",
    "\n",
    "\n",
    "print(\"\\n\\n\")\n",
    "\n",
    "# sorted() will create new list and won't make any change on original data\n",
    "list2 = [9, 5, 7, 8, 6]\n",
    "list2_sorted = sorted(list2)\n",
    "print(\"original list2:\", list2)\n",
    "print(\"copied list2:\", list2_sorted)"
   ]
  },
  {
   "cell_type": "markdown",
   "id": "90eb933c",
   "metadata": {},
   "source": [
    "### Break and Continue"
   ]
  },
  {
   "cell_type": "code",
   "execution_count": 34,
   "id": "427082d4",
   "metadata": {},
   "outputs": [
    {
     "name": "stdout",
     "output_type": "stream",
     "text": [
      "0\n",
      "1\n",
      "2\n",
      "3\n",
      "4\n",
      "5\n",
      "6\n",
      "7\n"
     ]
    }
   ],
   "source": [
    "# stop the loop by break\n",
    "for i in range(10):\n",
    "    print(i)\n",
    "    if i**2 > 40:\n",
    "        break"
   ]
  },
  {
   "cell_type": "code",
   "execution_count": 40,
   "id": "61dc5fd3",
   "metadata": {},
   "outputs": [
    {
     "name": "stdout",
     "output_type": "stream",
     "text": [
      "x: 0, y: 0\n",
      "x: 0, y: 3\n",
      "x: 0, y: 6\n",
      "x: 1, y: 2\n",
      "x: 1, y: 5\n",
      "x: 2, y: 1\n",
      "x: 2, y: 4\n",
      "x: 3, y: 0\n",
      "x: 3, y: 3\n",
      "x: 3, y: 6\n",
      "x: 4, y: 2\n",
      "x: 4, y: 5\n"
     ]
    }
   ],
   "source": [
    "# skip the loop by continue\n",
    "for x in range(5):\n",
    "    for y in range(7):\n",
    "        sum = x + y\n",
    "        can_divided_by_three = sum % 3 == 0\n",
    "        if can_divided_by_three:\n",
    "            print(f\"x: {x}, y: {y}\")\n",
    "        else:\n",
    "            continue"
   ]
  }
 ],
 "metadata": {
  "kernelspec": {
   "display_name": "Python 3 (ipykernel)",
   "language": "python",
   "name": "python3"
  },
  "language_info": {
   "codemirror_mode": {
    "name": "ipython",
    "version": 3
   },
   "file_extension": ".py",
   "mimetype": "text/x-python",
   "name": "python",
   "nbconvert_exporter": "python",
   "pygments_lexer": "ipython3",
   "version": "3.10.3"
  }
 },
 "nbformat": 4,
 "nbformat_minor": 5
}

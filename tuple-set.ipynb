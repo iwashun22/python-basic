{
 "cells": [
  {
   "cell_type": "markdown",
   "id": "e236652b",
   "metadata": {},
   "source": [
    "# Tuple\n",
    "\n",
    "> used to store multiple items in a single variable. "
   ]
  },
  {
   "cell_type": "code",
   "execution_count": 12,
   "id": "86a77343",
   "metadata": {},
   "outputs": [
    {
     "name": "stdout",
     "output_type": "stream",
     "text": [
      "tp1: (1, 3, 4)\n",
      "tp2: (5, 6, 7)\n"
     ]
    }
   ],
   "source": [
    "tp1 = (1, 3, 4)\n",
    "# tuple is immutable\n",
    "\n",
    "tp2 = 5, 6, 7\n",
    "# can shorten it by separating with comma\n",
    "\n",
    "print(\"tp1: \" + str(tp1))\n",
    "print(\"tp2: \" + str(tp2))"
   ]
  },
  {
   "cell_type": "code",
   "execution_count": 3,
   "id": "a8f4b93f",
   "metadata": {},
   "outputs": [
    {
     "ename": "TypeError",
     "evalue": "'tuple' object does not support item assignment",
     "output_type": "error",
     "traceback": [
      "\u001b[0;31m---------------------------------------------------------------------------\u001b[0m",
      "\u001b[0;31mTypeError\u001b[0m                                 Traceback (most recent call last)",
      "\u001b[0;32m/var/folders/b3/92wvs4691x54ssmhf3p6nz400000gn/T/ipykernel_55231/1366773413.py\u001b[0m in \u001b[0;36m<module>\u001b[0;34m\u001b[0m\n\u001b[0;32m----> 1\u001b[0;31m \u001b[0mtp1\u001b[0m\u001b[0;34m[\u001b[0m\u001b[0;36m0\u001b[0m\u001b[0;34m]\u001b[0m \u001b[0;34m=\u001b[0m \u001b[0;36m5\u001b[0m \u001b[0;31m# this will cause an error\u001b[0m\u001b[0;34m\u001b[0m\u001b[0;34m\u001b[0m\u001b[0m\n\u001b[0m",
      "\u001b[0;31mTypeError\u001b[0m: 'tuple' object does not support item assignment"
     ]
    }
   ],
   "source": [
    "tp1[0] = 5 # this will cause an error"
   ]
  },
  {
   "cell_type": "markdown",
   "id": "6fd9e07b",
   "metadata": {},
   "source": [
    "## Convert a list to a tuple"
   ]
  },
  {
   "cell_type": "code",
   "execution_count": 13,
   "id": "4d1af520",
   "metadata": {},
   "outputs": [
    {
     "name": "stdout",
     "output_type": "stream",
     "text": [
      "list: [2, 4, 8, 16] \n",
      "toTuple: (2, 4, 8, 16)\n"
     ]
    }
   ],
   "source": [
    "ls1 = [2, 4, 8, 16]\n",
    "\n",
    "ls_to_tp1 = tuple(ls1)\n",
    "\n",
    "print(\"list: {} \\ntoTuple: {}\".format(ls1, ls_to_tp1))"
   ]
  },
  {
   "cell_type": "code",
   "execution_count": 15,
   "id": "31dd9e17",
   "metadata": {},
   "outputs": [
    {
     "name": "stdout",
     "output_type": "stream",
     "text": [
      "4\n"
     ]
    }
   ],
   "source": [
    "# printing length \n",
    "print(len(ls_to_tp1))"
   ]
  },
  {
   "cell_type": "markdown",
   "id": "627a5100",
   "metadata": {},
   "source": [
    "## Unpacking tuples"
   ]
  },
  {
   "cell_type": "code",
   "execution_count": 16,
   "id": "05902603",
   "metadata": {},
   "outputs": [
    {
     "name": "stdout",
     "output_type": "stream",
     "text": [
      "apple\n",
      "lemon\n",
      "grape\n"
     ]
    }
   ],
   "source": [
    "fruits = (\"apple\", \"lemon\", \"grape\")\n",
    "(red, yellow, purple) = fruits\n",
    "\n",
    "print(red)\n",
    "print(yellow)\n",
    "print(purple)"
   ]
  },
  {
   "cell_type": "markdown",
   "id": "8d4a9fff",
   "metadata": {},
   "source": [
    "# Set\n",
    "> used to store multiple items in a single variable. A set is a collection which is unordered, unchangeable, and unindexed."
   ]
  },
  {
   "cell_type": "code",
   "execution_count": 2,
   "id": "ec935bb2",
   "metadata": {},
   "outputs": [
    {
     "name": "stdout",
     "output_type": "stream",
     "text": [
      "{1, 2, 3, 4, 5}\n",
      "{'one', 'two'}\n"
     ]
    }
   ],
   "source": [
    "set1 = {1, 2, 4, 5, 4, 1, 3}\n",
    "set2 = {\"one\", \"one\", \"two\", \"one\"}\n",
    "\n",
    "print(set1)\n",
    "print(set2)"
   ]
  },
  {
   "cell_type": "code",
   "execution_count": 4,
   "id": "107f508d",
   "metadata": {},
   "outputs": [
    {
     "name": "stdout",
     "output_type": "stream",
     "text": [
      "{'apple', 'orange', 'lime', 'raspberry'}\n"
     ]
    }
   ],
   "source": [
    "fruits = [\"apple\", \"orange\", \"lime\", \"raspberry\", \"orange\", \"apple\", \"orange\", \"lime\"]\n",
    "\n",
    "# make a set from the list\n",
    "basket = set(fruits)\n",
    "\n",
    "print(basket)"
   ]
  },
  {
   "cell_type": "code",
   "execution_count": 2,
   "id": "a3fcfdde",
   "metadata": {},
   "outputs": [
    {
     "name": "stdout",
     "output_type": "stream",
     "text": [
      "{'d', 'w', 'c', 's', 'k', 'b', 'i', 'a', 'r', 'v', 'p'}\n"
     ]
    }
   ],
   "source": [
    "string1 = 'ipibwcsdbavksapirb'\n",
    "\n",
    "# make a set from the string\n",
    "st_set = set(string1)\n",
    "\n",
    "print(st_set)"
   ]
  },
  {
   "cell_type": "markdown",
   "id": "423f635f",
   "metadata": {},
   "source": [
    "## Set operation"
   ]
  },
  {
   "cell_type": "code",
   "execution_count": 8,
   "id": "3e83ee12",
   "metadata": {},
   "outputs": [
    {
     "name": "stdout",
     "output_type": "stream",
     "text": [
      "set (A): {'d', 'w', 'n', 's', 'a', 'v', 'e', 'u'}\n",
      "set (B): {'o', 'n', 's', 'a', 'r', 'v', 'e', 'p'}\n"
     ]
    }
   ],
   "source": [
    "set_A = set('ansndvnanuwe') \n",
    "set_B = set('pvorsonvpesaoep')\n",
    "\n",
    "print(\"set (A):\", set_A)\n",
    "print(\"set (B):\", set_B)"
   ]
  },
  {
   "cell_type": "markdown",
   "id": "8f7188ce",
   "metadata": {},
   "source": [
    "####  Union (和集合)"
   ]
  },
  {
   "cell_type": "code",
   "execution_count": 12,
   "id": "e4acef54",
   "metadata": {},
   "outputs": [
    {
     "name": "stdout",
     "output_type": "stream",
     "text": [
      "set (A|B): {'o', 'd', 'w', 'n', 's', 'a', 'r', 'v', 'e', 'u', 'p'}\n"
     ]
    }
   ],
   "source": [
    "print(\"set (A|B):\", set_A | set_B)"
   ]
  },
  {
   "cell_type": "markdown",
   "id": "0d466d22",
   "metadata": {},
   "source": [
    "#### Difference (差集合)"
   ]
  },
  {
   "cell_type": "code",
   "execution_count": 15,
   "id": "36c72448",
   "metadata": {},
   "outputs": [
    {
     "name": "stdout",
     "output_type": "stream",
     "text": [
      "set (A-B): {'d', 'u', 'w'}\n",
      "set (B-A): {'o', 'p', 'r'}\n"
     ]
    }
   ],
   "source": [
    "print(\"set (A-B):\", set_A - set_B)\n",
    "print(\"set (B-A):\", set_B - set_A)"
   ]
  },
  {
   "cell_type": "markdown",
   "id": "b4470585",
   "metadata": {},
   "source": [
    "#### Intersection (積集合)"
   ]
  },
  {
   "cell_type": "code",
   "execution_count": 16,
   "id": "a0a9334c",
   "metadata": {},
   "outputs": [
    {
     "name": "stdout",
     "output_type": "stream",
     "text": [
      "set (A&B): {'n', 's', 'a', 'v', 'e'}\n"
     ]
    }
   ],
   "source": [
    "print(\"set (A&B):\", set_A & set_B)"
   ]
  },
  {
   "cell_type": "markdown",
   "id": "20f06914",
   "metadata": {},
   "source": [
    "#### Symmetric difference (対称差)"
   ]
  },
  {
   "cell_type": "code",
   "execution_count": 18,
   "id": "de326979",
   "metadata": {},
   "outputs": [
    {
     "name": "stdout",
     "output_type": "stream",
     "text": [
      "set (A^B): {'o', 'd', 'w', 'r', 'u', 'p'}\n"
     ]
    }
   ],
   "source": [
    "print(\"set (A^B):\", set_A ^ set_B)"
   ]
  }
 ],
 "metadata": {
  "kernelspec": {
   "display_name": "Python 3 (ipykernel)",
   "language": "python",
   "name": "python3"
  },
  "language_info": {
   "codemirror_mode": {
    "name": "ipython",
    "version": 3
   },
   "file_extension": ".py",
   "mimetype": "text/x-python",
   "name": "python",
   "nbconvert_exporter": "python",
   "pygments_lexer": "ipython3",
   "version": "3.10.3"
  }
 },
 "nbformat": 4,
 "nbformat_minor": 5
}

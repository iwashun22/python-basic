{
 "cells": [
  {
   "cell_type": "markdown",
   "id": "8a2d1ceb",
   "metadata": {},
   "source": [
    "# Tutorial (Arrays)"
   ]
  },
  {
   "cell_type": "code",
   "execution_count": 97,
   "id": "7e06e5f5",
   "metadata": {},
   "outputs": [
    {
     "name": "stdout",
     "output_type": "stream",
     "text": [
      "[2, 2, 4, 6, 1]\n"
     ]
    }
   ],
   "source": [
    "lists = [2, 2, 4, 6, 1]\n",
    "print(lists)"
   ]
  },
  {
   "cell_type": "code",
   "execution_count": 98,
   "id": "2cd0a68c",
   "metadata": {},
   "outputs": [
    {
     "name": "stdout",
     "output_type": "stream",
     "text": [
      "1\n"
     ]
    }
   ],
   "source": [
    "print(lists[-1]) # get the last element"
   ]
  },
  {
   "cell_type": "markdown",
   "id": "0ad4ed12",
   "metadata": {},
   "source": [
    "## Print all elements from index 2 (3rd element)"
   ]
  },
  {
   "cell_type": "code",
   "execution_count": 99,
   "id": "54b22803",
   "metadata": {},
   "outputs": [
    {
     "name": "stdout",
     "output_type": "stream",
     "text": [
      "[4, 6, 1]\n"
     ]
    }
   ],
   "source": [
    "print(lists[2:])"
   ]
  },
  {
   "cell_type": "markdown",
   "id": "be4f2557",
   "metadata": {},
   "source": [
    "## Concatinate array"
   ]
  },
  {
   "cell_type": "code",
   "execution_count": 100,
   "id": "3b098209",
   "metadata": {},
   "outputs": [
    {
     "name": "stdout",
     "output_type": "stream",
     "text": [
      "[2, 2, 4, 6, 1, 4, 7, 9, 3]\n"
     ]
    }
   ],
   "source": [
    "print(lists + [4, 7, 9, 3])"
   ]
  },
  {
   "cell_type": "code",
   "execution_count": 101,
   "id": "2027c3ff",
   "metadata": {},
   "outputs": [
    {
     "name": "stdout",
     "output_type": "stream",
     "text": [
      "[2, 2, 4, 6, 1]\n"
     ]
    }
   ],
   "source": [
    "print(lists)"
   ]
  },
  {
   "cell_type": "code",
   "execution_count": 102,
   "id": "eca7b0a5",
   "metadata": {},
   "outputs": [
    {
     "name": "stdout",
     "output_type": "stream",
     "text": [
      "[1, 8, 27, 64]\n"
     ]
    }
   ],
   "source": [
    "cubes = [1, 8, 27, 65]\n",
    "\n",
    "cubes[3] = 4 ** 3\n",
    "\n",
    "print(cubes)"
   ]
  },
  {
   "cell_type": "markdown",
   "id": "36b07776",
   "metadata": {},
   "source": [
    "## Append an element to the array"
   ]
  },
  {
   "cell_type": "code",
   "execution_count": 103,
   "id": "a7109196",
   "metadata": {},
   "outputs": [
    {
     "name": "stdout",
     "output_type": "stream",
     "text": [
      "[1, 8, 27, 64, 125, 216]\n"
     ]
    }
   ],
   "source": [
    "cubes.append(5 ** 3)\n",
    "cubes.append(6 ** 3)\n",
    "print(cubes)"
   ]
  },
  {
   "cell_type": "code",
   "execution_count": 104,
   "id": "09afa733",
   "metadata": {},
   "outputs": [],
   "source": [
    "letters = ['a', 'b', 'c', 'd', 'e', 'f']"
   ]
  },
  {
   "cell_type": "markdown",
   "id": "362c971e",
   "metadata": {},
   "source": [
    "## Replace elements"
   ]
  },
  {
   "cell_type": "code",
   "execution_count": 105,
   "id": "e1c293df",
   "metadata": {},
   "outputs": [
    {
     "name": "stdout",
     "output_type": "stream",
     "text": [
      "['a', 'b', 'C', 'D', 'E', 'f']\n"
     ]
    }
   ],
   "source": [
    "letters[2:5] = ['C', 'D', 'E']\n",
    "print(letters)"
   ]
  },
  {
   "cell_type": "markdown",
   "id": "08dfa057",
   "metadata": {},
   "source": [
    "## Remove elements"
   ]
  },
  {
   "cell_type": "code",
   "execution_count": 106,
   "id": "a7bccd54",
   "metadata": {},
   "outputs": [
    {
     "name": "stdout",
     "output_type": "stream",
     "text": [
      "['a', 'b', 'C', 'f']\n"
     ]
    }
   ],
   "source": [
    "letters[3:5] = []\n",
    "print(letters)"
   ]
  },
  {
   "cell_type": "markdown",
   "id": "09160cd6",
   "metadata": {},
   "source": [
    "## Clear elements"
   ]
  },
  {
   "cell_type": "code",
   "execution_count": 107,
   "id": "7661f57a",
   "metadata": {},
   "outputs": [
    {
     "name": "stdout",
     "output_type": "stream",
     "text": [
      "[]\n"
     ]
    }
   ],
   "source": [
    "letters.clear()\n",
    "print(letters)"
   ]
  },
  {
   "cell_type": "markdown",
   "id": "513698d7",
   "metadata": {},
   "source": [
    "## Get the length"
   ]
  },
  {
   "cell_type": "code",
   "execution_count": 108,
   "id": "3413968b",
   "metadata": {},
   "outputs": [
    {
     "data": {
      "text/plain": [
       "3"
      ]
     },
     "execution_count": 108,
     "metadata": {},
     "output_type": "execute_result"
    }
   ],
   "source": [
    "letters = ['A', 'B', 'C']\n",
    "len(letters)"
   ]
  },
  {
   "cell_type": "markdown",
   "id": "26cb2631",
   "metadata": {},
   "source": [
    "## Check the containing element"
   ]
  },
  {
   "cell_type": "code",
   "execution_count": 109,
   "id": "d1d26984",
   "metadata": {},
   "outputs": [
    {
     "name": "stdout",
     "output_type": "stream",
     "text": [
      "'A' in letters =  True\n",
      "'b' in letters =  False\n",
      "'C' in letters =  True\n"
     ]
    }
   ],
   "source": [
    "print(\"'A' in letters = \",'A' in letters)\n",
    "print(\"'b' in letters = \",'b' in letters)\n",
    "print(\"'C' in letters = \",'C' in letters)"
   ]
  },
  {
   "cell_type": "markdown",
   "id": "4d0104dc",
   "metadata": {},
   "source": [
    "## Inserting element"
   ]
  },
  {
   "cell_type": "code",
   "execution_count": 110,
   "id": "34f47403",
   "metadata": {},
   "outputs": [
    {
     "name": "stdout",
     "output_type": "stream",
     "text": [
      "[1, 2, 3, 4, 5]\n"
     ]
    }
   ],
   "source": [
    "lists = [1, 3, 4, 5]\n",
    "lists.insert(1, 2) # insert to index 1\n",
    "print(lists)"
   ]
  },
  {
   "cell_type": "markdown",
   "id": "395c5323",
   "metadata": {},
   "source": [
    "## Removing the element by its value"
   ]
  },
  {
   "cell_type": "code",
   "execution_count": 111,
   "id": "c5bb8d7a",
   "metadata": {},
   "outputs": [
    {
     "name": "stdout",
     "output_type": "stream",
     "text": [
      "[1, 5, 6, 8, 4, 2, 5, 10, 2]\n",
      "[1, 5, 6, 8, 4, 5, 10, 2]\n",
      "[1, 5, 6, 8, 4, 5, 10]\n",
      "\n",
      "removed all 2\n"
     ]
    }
   ],
   "source": [
    "lists = [1, 2, 5, 6, 8, 4, 2, 5, 10, 2]\n",
    "\n",
    "while 2 in lists:\n",
    "    \n",
    "    lists.remove(2)\n",
    "    print(lists)\n",
    "    \n",
    "print('\\nremoved all 2')"
   ]
  },
  {
   "cell_type": "code",
   "execution_count": 112,
   "id": "b0162b3e",
   "metadata": {},
   "outputs": [
    {
     "ename": "ValueError",
     "evalue": "list.remove(x): x not in list",
     "output_type": "error",
     "traceback": [
      "\u001b[0;31m---------------------------------------------------------------------------\u001b[0m",
      "\u001b[0;31mValueError\u001b[0m                                Traceback (most recent call last)",
      "\u001b[0;32m/var/folders/b3/92wvs4691x54ssmhf3p6nz400000gn/T/ipykernel_16798/196606377.py\u001b[0m in \u001b[0;36m<module>\u001b[0;34m\u001b[0m\n\u001b[0;32m----> 1\u001b[0;31m \u001b[0mlists\u001b[0m\u001b[0;34m.\u001b[0m\u001b[0mremove\u001b[0m\u001b[0;34m(\u001b[0m\u001b[0;36m2\u001b[0m\u001b[0;34m)\u001b[0m \u001b[0;31m# get an error when specified value is not in the list\u001b[0m\u001b[0;34m\u001b[0m\u001b[0;34m\u001b[0m\u001b[0m\n\u001b[0m",
      "\u001b[0;31mValueError\u001b[0m: list.remove(x): x not in list"
     ]
    }
   ],
   "source": [
    "lists.remove(2) # get an error when specified value is not in the list"
   ]
  },
  {
   "cell_type": "markdown",
   "id": "b6bdafe9",
   "metadata": {},
   "source": [
    "## Get index"
   ]
  },
  {
   "cell_type": "code",
   "execution_count": 113,
   "id": "92c21025",
   "metadata": {},
   "outputs": [
    {
     "data": {
      "text/plain": [
       "3"
      ]
     },
     "execution_count": 113,
     "metadata": {},
     "output_type": "execute_result"
    }
   ],
   "source": [
    "lists.index(8) # get the index first found"
   ]
  },
  {
   "cell_type": "code",
   "execution_count": 114,
   "id": "c96b50bc",
   "metadata": {},
   "outputs": [
    {
     "ename": "ValueError",
     "evalue": "11 is not in list",
     "output_type": "error",
     "traceback": [
      "\u001b[0;31m---------------------------------------------------------------------------\u001b[0m",
      "\u001b[0;31mValueError\u001b[0m                                Traceback (most recent call last)",
      "\u001b[0;32m/var/folders/b3/92wvs4691x54ssmhf3p6nz400000gn/T/ipykernel_16798/41736507.py\u001b[0m in \u001b[0;36m<module>\u001b[0;34m\u001b[0m\n\u001b[0;32m----> 1\u001b[0;31m \u001b[0mlists\u001b[0m\u001b[0;34m.\u001b[0m\u001b[0mindex\u001b[0m\u001b[0;34m(\u001b[0m\u001b[0;36m11\u001b[0m\u001b[0;34m)\u001b[0m \u001b[0;31m# get an error when specified value is not in the list\u001b[0m\u001b[0;34m\u001b[0m\u001b[0;34m\u001b[0m\u001b[0m\n\u001b[0m",
      "\u001b[0;31mValueError\u001b[0m: 11 is not in list"
     ]
    }
   ],
   "source": [
    "lists.index(11) # get an error when specified value is not in the list"
   ]
  },
  {
   "cell_type": "markdown",
   "id": "b1eeba76",
   "metadata": {},
   "source": [
    "## Sort the list"
   ]
  },
  {
   "cell_type": "code",
   "execution_count": 115,
   "id": "f3570fc6",
   "metadata": {},
   "outputs": [
    {
     "name": "stdout",
     "output_type": "stream",
     "text": [
      "[1, 4, 5, 5, 6, 8, 10]\n"
     ]
    }
   ],
   "source": [
    "lists.sort()\n",
    "print(lists)"
   ]
  },
  {
   "cell_type": "code",
   "execution_count": 116,
   "id": "ac1cca56",
   "metadata": {},
   "outputs": [
    {
     "name": "stdout",
     "output_type": "stream",
     "text": [
      "[10, 8, 6, 5, 5, 4, 1]\n"
     ]
    }
   ],
   "source": [
    "lists.sort(reverse=True) # sort in descending order\n",
    "print(lists)"
   ]
  },
  {
   "cell_type": "markdown",
   "id": "4265e319",
   "metadata": {},
   "source": [
    "## Reverse the list"
   ]
  },
  {
   "cell_type": "code",
   "execution_count": 117,
   "id": "0bfb36cf",
   "metadata": {},
   "outputs": [
    {
     "name": "stdout",
     "output_type": "stream",
     "text": [
      "['N', 'O', 'H', 'T', 'Y', 'P']\n"
     ]
    }
   ],
   "source": [
    "letters = ['P', 'Y', 'T', 'H', 'O', 'N']\n",
    "letters.reverse()\n",
    "print(letters)"
   ]
  },
  {
   "cell_type": "markdown",
   "id": "0d697938",
   "metadata": {},
   "source": [
    "## Copy the list"
   ]
  },
  {
   "cell_type": "markdown",
   "id": "67f0ef32",
   "metadata": {},
   "source": [
    "> ### wrong way"
   ]
  },
  {
   "cell_type": "code",
   "execution_count": 118,
   "id": "e6cd10a3",
   "metadata": {},
   "outputs": [
    {
     "name": "stdout",
     "output_type": "stream",
     "text": [
      "['a', 'b', 'c', 'd']\n",
      "['a', 'b', 'c', 'd']\n"
     ]
    }
   ],
   "source": [
    "letters = ['a', 'b', 'c']\n",
    "copy_letters = letters\n",
    "\n",
    "copy_letters.append('d')\n",
    "\n",
    "print(letters)\n",
    "print(copy_letters)\n",
    "\n",
    "# this happens because both arrays have the same id"
   ]
  },
  {
   "cell_type": "code",
   "execution_count": 119,
   "id": "b067ad33",
   "metadata": {},
   "outputs": [
    {
     "name": "stdout",
     "output_type": "stream",
     "text": [
      "4353477952\n"
     ]
    },
    {
     "data": {
      "text/plain": [
       "True"
      ]
     },
     "execution_count": 119,
     "metadata": {},
     "output_type": "execute_result"
    }
   ],
   "source": [
    "print(id(letters))\n",
    "id(letters) == id(copy_letters)"
   ]
  },
  {
   "cell_type": "markdown",
   "id": "c724600e",
   "metadata": {},
   "source": [
    " > ### correct way"
   ]
  },
  {
   "cell_type": "code",
   "execution_count": 120,
   "id": "250d844c",
   "metadata": {},
   "outputs": [
    {
     "name": "stdout",
     "output_type": "stream",
     "text": [
      "=== before ===\n",
      "original:  ['a', 'b', 'c', 'd']\n",
      "copied:  ['a', 'b', 'c', 'd']\n",
      "\n",
      "=== after ===\n",
      "original:  ['a', 'b', 'c', 'd']\n",
      "copied:  ['a', 'b', 'c', 'e']\n",
      "False\n"
     ]
    },
    {
     "data": {
      "text/plain": [
       "True"
      ]
     },
     "execution_count": 120,
     "metadata": {},
     "output_type": "execute_result"
    }
   ],
   "source": [
    "copy_letters = letters.copy()\n",
    "\n",
    "print('=== before ===')\n",
    "print('original: ', letters)\n",
    "print('copied: ', copy_letters)\n",
    "\n",
    "copy_letters[-1] = 'e' # change the last element to 'e'\n",
    "print('\\n=== after ===')\n",
    "print('original: ', letters)\n",
    "print('copied: ', copy_letters)\n",
    "\n",
    "print(id(copy_letters) == id(letters))\n",
    "\n",
    "copy_letters is not letters"
   ]
  },
  {
   "cell_type": "markdown",
   "id": "8ff51245",
   "metadata": {},
   "source": [
    "## Join arrays"
   ]
  },
  {
   "cell_type": "code",
   "execution_count": 125,
   "id": "ff3c2d44",
   "metadata": {},
   "outputs": [
    {
     "data": {
      "text/plain": [
       "[['a', 'b', 'c'], [4, 5]]"
      ]
     },
     "execution_count": 125,
     "metadata": {},
     "output_type": "execute_result"
    }
   ],
   "source": [
    "a = ['a', 'b', 'c']\n",
    "b = [4, 5]\n",
    "x = [a, b.copy()] # combine\n",
    "x"
   ]
  },
  {
   "cell_type": "code",
   "execution_count": 126,
   "id": "8ce21a15",
   "metadata": {},
   "outputs": [
    {
     "data": {
      "text/plain": [
       "['a', 'b', 'c']"
      ]
     },
     "execution_count": 126,
     "metadata": {},
     "output_type": "execute_result"
    }
   ],
   "source": [
    "x[0]"
   ]
  },
  {
   "cell_type": "code",
   "execution_count": 127,
   "id": "9427d801",
   "metadata": {},
   "outputs": [
    {
     "data": {
      "text/plain": [
       "[4, 5]"
      ]
     },
     "execution_count": 127,
     "metadata": {},
     "output_type": "execute_result"
    }
   ],
   "source": [
    "x[1]"
   ]
  },
  {
   "cell_type": "code",
   "execution_count": 128,
   "id": "c3085857",
   "metadata": {},
   "outputs": [
    {
     "data": {
      "text/plain": [
       "['a', 'b', 'c', 'd']"
      ]
     },
     "execution_count": 128,
     "metadata": {},
     "output_type": "execute_result"
    }
   ],
   "source": [
    "a.append('d') # this will effect x list too\n",
    "x[0]"
   ]
  },
  {
   "cell_type": "code",
   "execution_count": 129,
   "id": "53ec5535",
   "metadata": {},
   "outputs": [
    {
     "data": {
      "text/plain": [
       "[4, 5]"
      ]
     },
     "execution_count": 129,
     "metadata": {},
     "output_type": "execute_result"
    }
   ],
   "source": [
    "b.append(6) # this will not effect x list\n",
    "x[1]"
   ]
  }
 ],
 "metadata": {
  "kernelspec": {
   "display_name": "Python 3 (ipykernel)",
   "language": "python",
   "name": "python3"
  },
  "language_info": {
   "codemirror_mode": {
    "name": "ipython",
    "version": 3
   },
   "file_extension": ".py",
   "mimetype": "text/x-python",
   "name": "python",
   "nbconvert_exporter": "python",
   "pygments_lexer": "ipython3",
   "version": "3.9.6"
  }
 },
 "nbformat": 4,
 "nbformat_minor": 5
}

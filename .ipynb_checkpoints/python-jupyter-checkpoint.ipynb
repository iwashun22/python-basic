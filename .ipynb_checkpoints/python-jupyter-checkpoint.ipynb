{
 "cells": [
  {
   "cell_type": "code",
   "execution_count": 5,
   "id": "f5856413",
   "metadata": {},
   "outputs": [],
   "source": [
    "lists = [2, 2, 4, 6, 1]"
   ]
  },
  {
   "cell_type": "code",
   "execution_count": 6,
   "id": "7e06e5f5",
   "metadata": {},
   "outputs": [
    {
     "name": "stdout",
     "output_type": "stream",
     "text": [
      "[2, 2, 4, 6, 1]\n"
     ]
    }
   ],
   "source": [
    "print(lists)"
   ]
  },
  {
   "cell_type": "code",
   "execution_count": 7,
   "id": "2cd0a68c",
   "metadata": {},
   "outputs": [
    {
     "name": "stdout",
     "output_type": "stream",
     "text": [
      "1\n"
     ]
    }
   ],
   "source": [
    "print(lists[-1])"
   ]
  },
  {
   "cell_type": "markdown",
   "id": "0ad4ed12",
   "metadata": {},
   "source": [
    "## Print all elements from index 2 (3rd element)"
   ]
  },
  {
   "cell_type": "code",
   "execution_count": 8,
   "id": "54b22803",
   "metadata": {},
   "outputs": [
    {
     "name": "stdout",
     "output_type": "stream",
     "text": [
      "[4, 6, 1]\n"
     ]
    }
   ],
   "source": [
    "print(lists[2:])"
   ]
  },
  {
   "cell_type": "markdown",
   "id": "be4f2557",
   "metadata": {},
   "source": [
    "# Concatinate array"
   ]
  },
  {
   "cell_type": "code",
   "execution_count": 9,
   "id": "3b098209",
   "metadata": {},
   "outputs": [
    {
     "name": "stdout",
     "output_type": "stream",
     "text": [
      "[2, 2, 4, 6, 1, 4, 7, 9, 3]\n"
     ]
    }
   ],
   "source": [
    "print(lists + [4, 7, 9, 3])"
   ]
  },
  {
   "cell_type": "code",
   "execution_count": 10,
   "id": "2027c3ff",
   "metadata": {},
   "outputs": [
    {
     "name": "stdout",
     "output_type": "stream",
     "text": [
      "[2, 2, 4, 6, 1]\n"
     ]
    }
   ],
   "source": [
    "print(lists)"
   ]
  },
  {
   "cell_type": "code",
   "execution_count": 11,
   "id": "eca7b0a5",
   "metadata": {},
   "outputs": [
    {
     "name": "stdout",
     "output_type": "stream",
     "text": [
      "[1, 8, 27, 64]\n"
     ]
    }
   ],
   "source": [
    "cubes = [1, 8, 27, 65]\n",
    "\n",
    "cubes[3] = 4 ** 3\n",
    "\n",
    "print(cubes)"
   ]
  },
  {
   "cell_type": "markdown",
   "id": "36b07776",
   "metadata": {},
   "source": [
    "## Append an element to the array"
   ]
  },
  {
   "cell_type": "code",
   "execution_count": 12,
   "id": "a7109196",
   "metadata": {},
   "outputs": [
    {
     "name": "stdout",
     "output_type": "stream",
     "text": [
      "[1, 8, 27, 64, 125, 216]\n"
     ]
    }
   ],
   "source": [
    "cubes.append(5 ** 3)\n",
    "cubes.append(6 ** 3)\n",
    "print(cubes)"
   ]
  },
  {
   "cell_type": "code",
   "execution_count": 13,
   "id": "09afa733",
   "metadata": {},
   "outputs": [],
   "source": [
    "letters = ['a', 'b', 'c', 'd', 'e', 'f']"
   ]
  },
  {
   "cell_type": "markdown",
   "id": "3dcff2ae",
   "metadata": {},
   "source": [
    "## Replace elements"
   ]
  },
  {
   "cell_type": "code",
   "execution_count": 14,
   "id": "f952ce47",
   "metadata": {},
   "outputs": [
    {
     "name": "stdout",
     "output_type": "stream",
     "text": [
      "['a', 'b', 'C', 'D', 'E', 'f']\n"
     ]
    }
   ],
   "source": [
    "letters[2:5] = ['C', 'D', 'E']\n",
    "print(letters)"
   ]
  },
  {
   "cell_type": "markdown",
   "id": "d0de1ea3",
   "metadata": {},
   "source": [
    "## Remove elements"
   ]
  },
  {
   "cell_type": "code",
   "execution_count": 15,
   "id": "226da678",
   "metadata": {},
   "outputs": [
    {
     "name": "stdout",
     "output_type": "stream",
     "text": [
      "['a', 'b', 'C', 'f']\n"
     ]
    }
   ],
   "source": [
    "letters[3:5] = []\n",
    "print(letters)"
   ]
  },
  {
   "cell_type": "markdown",
   "id": "5aa95fb3",
   "metadata": {},
   "source": [
    "## Clear elements"
   ]
  },
  {
   "cell_type": "code",
   "execution_count": 16,
   "id": "cf7af3e1",
   "metadata": {},
   "outputs": [
    {
     "name": "stdout",
     "output_type": "stream",
     "text": [
      "[]\n"
     ]
    }
   ],
   "source": [
    "letters.clear()\n",
    "print(letters)"
   ]
  },
  {
   "cell_type": "markdown",
   "id": "6e5a5278",
   "metadata": {},
   "source": [
    "## Get the length"
   ]
  },
  {
   "cell_type": "code",
   "execution_count": 17,
   "id": "3332e7a1",
   "metadata": {},
   "outputs": [
    {
     "data": {
      "text/plain": [
       "3"
      ]
     },
     "execution_count": 17,
     "metadata": {},
     "output_type": "execute_result"
    }
   ],
   "source": [
    "letters = ['A', 'B', 'C']\n",
    "len(letters)"
   ]
  },
  {
   "cell_type": "markdown",
   "id": "f015c75e",
   "metadata": {},
   "source": [
    "## Check the containing element"
   ]
  },
  {
   "cell_type": "code",
   "execution_count": 21,
   "id": "cb3d7d64",
   "metadata": {},
   "outputs": [
    {
     "name": "stdout",
     "output_type": "stream",
     "text": [
      "'A' in letters =  True\n",
      "'b' in letters =  False\n",
      "'C' in letters =  True\n"
     ]
    }
   ],
   "source": [
    "print(\"'A' in letters = \",'A' in letters)\n",
    "print(\"'b' in letters = \",'b' in letters)\n",
    "print(\"'C' in letters = \",'C' in letters)"
   ]
  },
  {
   "cell_type": "code",
   "execution_count": null,
   "id": "ae4cb673",
   "metadata": {},
   "outputs": [],
   "source": []
  },
  {
   "cell_type": "code",
   "execution_count": null,
   "id": "d9c90da5",
   "metadata": {},
   "outputs": [],
   "source": []
  }
 ],
 "metadata": {
  "kernelspec": {
   "display_name": "Python 3 (ipykernel)",
   "language": "python",
   "name": "python3"
  },
  "language_info": {
   "codemirror_mode": {
    "name": "ipython",
    "version": 3
   },
   "file_extension": ".py",
   "mimetype": "text/x-python",
   "name": "python",
   "nbconvert_exporter": "python",
   "pygments_lexer": "ipython3",
   "version": "3.9.6"
  }
 },
 "nbformat": 4,
 "nbformat_minor": 5
}

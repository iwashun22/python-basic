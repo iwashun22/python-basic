{
 "cells": [
  {
   "cell_type": "markdown",
   "id": "c8765f4c",
   "metadata": {},
   "source": [
    "## List-comprehension (construct list)"
   ]
  },
  {
   "cell_type": "code",
   "execution_count": 2,
   "id": "053347df",
   "metadata": {},
   "outputs": [
    {
     "name": "stdout",
     "output_type": "stream",
     "text": [
      "[0, 1, 4, 9, 16, 25, 36, 49, 64, 81]\n"
     ]
    }
   ],
   "source": [
    "squares = []\n",
    "for v in range(10):\n",
    "    squares.append(v ** 2)\n",
    "print(squares)"
   ]
  },
  {
   "cell_type": "markdown",
   "id": "b90d2f93",
   "metadata": {},
   "source": [
    "### Also can do same thing with code below"
   ]
  },
  {
   "cell_type": "markdown",
   "id": "68cc428b",
   "metadata": {},
   "source": [
    "```py\n",
    "[expression for variable in iterable]\n",
    "```"
   ]
  },
  {
   "cell_type": "code",
   "execution_count": 3,
   "id": "c0a3a8e1",
   "metadata": {},
   "outputs": [
    {
     "name": "stdout",
     "output_type": "stream",
     "text": [
      "[0, 1, 4, 9, 16, 25, 36, 49, 64, 81]\n"
     ]
    }
   ],
   "source": [
    "squares = [value ** 2 for value in range(10)]\n",
    "print(squares)"
   ]
  },
  {
   "cell_type": "markdown",
   "id": "27159b1f",
   "metadata": {},
   "source": [
    "### Add filter with conditions"
   ]
  },
  {
   "cell_type": "markdown",
   "id": "5c5422ff",
   "metadata": {},
   "source": [
    "```py\n",
    "[expression for variable in iterable if condition]\n",
    "```"
   ]
  },
  {
   "cell_type": "code",
   "execution_count": 4,
   "id": "ea633ced",
   "metadata": {},
   "outputs": [
    {
     "name": "stdout",
     "output_type": "stream",
     "text": [
      "[0, 2, 4, 6, 8]\n"
     ]
    }
   ],
   "source": [
    "even_list = [value for value in range(10) if value % 2 == 0]\n",
    "print(even_list)"
   ]
  },
  {
   "cell_type": "markdown",
   "id": "d2eaf6ff",
   "metadata": {},
   "source": [
    "### Same logic works with set"
   ]
  },
  {
   "cell_type": "code",
   "execution_count": 5,
   "id": "61cf9bd9",
   "metadata": {},
   "outputs": [
    {
     "name": "stdout",
     "output_type": "stream",
     "text": [
      "{0, 3, 6, 9, 12, 15, 18}\n"
     ]
    }
   ],
   "source": [
    "can_divided_by_three = {x for x in range(20) if x % 3 == 0}\n",
    "print(can_divided_by_three)"
   ]
  },
  {
   "cell_type": "markdown",
   "id": "e0225f2f",
   "metadata": {},
   "source": [
    "### Define generator\n",
    "\n",
    "> This is not tuple\n",
    "\n",
    "> Can be used only one time"
   ]
  },
  {
   "cell_type": "code",
   "execution_count": 6,
   "id": "eb8dc1ae",
   "metadata": {},
   "outputs": [
    {
     "name": "stdout",
     "output_type": "stream",
     "text": [
      "<generator object <genexpr> at 0x103b30e40>\n",
      "0\n",
      "13\n",
      "26\n",
      "39\n",
      "52\n",
      "65\n",
      "78\n",
      "91\n"
     ]
    }
   ],
   "source": [
    "generator = (x for x in range(100) if x % 13 == 0)\n",
    "print(generator)\n",
    "\n",
    "for value in generator:\n",
    "    print(value)"
   ]
  },
  {
   "cell_type": "code",
   "execution_count": 13,
   "id": "15f92d91",
   "metadata": {},
   "outputs": [
    {
     "name": "stdout",
     "output_type": "stream",
     "text": [
      "[]\n"
     ]
    },
    {
     "data": {
      "text/plain": [
       "[1, 8, 15, 22, 29, 36, 43, 50, 57, 64, 71, 78, 85, 92, 99]"
      ]
     },
     "execution_count": 13,
     "metadata": {},
     "output_type": "execute_result"
    }
   ],
   "source": [
    "print([x for x in generator])\n",
    "\n",
    "# list created by generator\n",
    "generator = (x for x in range(100) if x % 7 == 1)\n",
    "[x for x in generator]"
   ]
  },
  {
   "cell_type": "markdown",
   "id": "886dfce7",
   "metadata": {},
   "source": [
    "```py\n",
    "# the way to make tuple with this method\n",
    "example = tuple(x for x in range(5))\n",
    "```"
   ]
  },
  {
   "cell_type": "markdown",
   "id": "f9ce615e",
   "metadata": {},
   "source": [
    "## Dict-comprehension"
   ]
  },
  {
   "cell_type": "markdown",
   "id": "9332511f",
   "metadata": {},
   "source": [
    "```py\n",
    "{key:value for v in iterable}\n",
    "```"
   ]
  },
  {
   "cell_type": "code",
   "execution_count": 17,
   "id": "944de717",
   "metadata": {},
   "outputs": [
    {
     "name": "stdout",
     "output_type": "stream",
     "text": [
      "{'APPLE': 5, 'WATERMELON': 10, 'ORANGE': 6, 'BANANA': 6}\n"
     ]
    }
   ],
   "source": [
    "fruits_list = [\n",
    "    \"apple\",\n",
    "    \"watermelon\",\n",
    "    \"orange\",\n",
    "    \"banana\"\n",
    "]\n",
    "\n",
    "dict_1 = {value.upper(): len(value) for value in fruits_list}\n",
    "print(dict_1)"
   ]
  }
 ],
 "metadata": {
  "kernelspec": {
   "display_name": "Python 3 (ipykernel)",
   "language": "python",
   "name": "python3"
  },
  "language_info": {
   "codemirror_mode": {
    "name": "ipython",
    "version": 3
   },
   "file_extension": ".py",
   "mimetype": "text/x-python",
   "name": "python",
   "nbconvert_exporter": "python",
   "pygments_lexer": "ipython3",
   "version": "3.10.3"
  }
 },
 "nbformat": 4,
 "nbformat_minor": 5
}

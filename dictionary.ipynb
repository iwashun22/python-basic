{
 "cells": [
  {
   "cell_type": "markdown",
   "id": "95098c75",
   "metadata": {},
   "source": [
    "# Tutorial (dict)"
   ]
  },
  {
   "cell_type": "code",
   "execution_count": 1,
   "id": "23cbd083",
   "metadata": {},
   "outputs": [
    {
     "name": "stdout",
     "output_type": "stream",
     "text": [
      "{'John': 4231, 'Peter': 7916}\n"
     ]
    }
   ],
   "source": [
    "contacts = { 'John': 4231, 'Peter': 7916 }\n",
    "print(contacts)"
   ]
  },
  {
   "cell_type": "code",
   "execution_count": 2,
   "id": "7f358d4e",
   "metadata": {},
   "outputs": [
    {
     "name": "stdout",
     "output_type": "stream",
     "text": [
      "4231\n"
     ]
    }
   ],
   "source": [
    "print(contacts['John'])\n",
    "\n",
    "contacts['Luke'] = 3098"
   ]
  },
  {
   "cell_type": "markdown",
   "id": "358e9f18",
   "metadata": {},
   "source": [
    "## Get keys"
   ]
  },
  {
   "cell_type": "code",
   "execution_count": 10,
   "id": "d526e8e3",
   "metadata": {},
   "outputs": [
    {
     "data": {
      "text/plain": [
       "dict_keys(['John', 'Peter', 'Luke'])"
      ]
     },
     "execution_count": 10,
     "metadata": {},
     "output_type": "execute_result"
    }
   ],
   "source": [
    "contacts.keys()"
   ]
  },
  {
   "cell_type": "code",
   "execution_count": 14,
   "id": "db3abb50",
   "metadata": {},
   "outputs": [
    {
     "ename": "TypeError",
     "evalue": "'dict_keys' object is not subscriptable",
     "output_type": "error",
     "traceback": [
      "\u001b[0;31m---------------------------------------------------------------------------\u001b[0m",
      "\u001b[0;31mTypeError\u001b[0m                                 Traceback (most recent call last)",
      "\u001b[0;32m/var/folders/b3/92wvs4691x54ssmhf3p6nz400000gn/T/ipykernel_19594/491182200.py\u001b[0m in \u001b[0;36m<module>\u001b[0;34m\u001b[0m\n\u001b[0;32m----> 1\u001b[0;31m \u001b[0mprint\u001b[0m\u001b[0;34m(\u001b[0m\u001b[0mcontacts\u001b[0m\u001b[0;34m.\u001b[0m\u001b[0mkeys\u001b[0m\u001b[0;34m(\u001b[0m\u001b[0;34m)\u001b[0m\u001b[0;34m[\u001b[0m\u001b[0;36m1\u001b[0m\u001b[0;34m]\u001b[0m\u001b[0;34m)\u001b[0m \u001b[0;31m# this is not an array so it will throw an error\u001b[0m\u001b[0;34m\u001b[0m\u001b[0;34m\u001b[0m\u001b[0m\n\u001b[0m",
      "\u001b[0;31mTypeError\u001b[0m: 'dict_keys' object is not subscriptable"
     ]
    }
   ],
   "source": [
    "print(contacts.keys()[1]) # this is not an array so it will throw an error"
   ]
  },
  {
   "cell_type": "markdown",
   "id": "f4141d15",
   "metadata": {},
   "source": [
    "> ### make it to the list"
   ]
  },
  {
   "cell_type": "code",
   "execution_count": 15,
   "id": "8d033ff2",
   "metadata": {},
   "outputs": [
    {
     "name": "stdout",
     "output_type": "stream",
     "text": [
      "['John', 'Peter', 'Luke']\n"
     ]
    },
    {
     "data": {
      "text/plain": [
       "'Peter'"
      ]
     },
     "execution_count": 15,
     "metadata": {},
     "output_type": "execute_result"
    }
   ],
   "source": [
    "keys = list(contacts.keys())\n",
    "print(keys)\n",
    "keys[1]"
   ]
  },
  {
   "cell_type": "markdown",
   "id": "f73a7962",
   "metadata": {},
   "source": [
    "## Get values"
   ]
  },
  {
   "cell_type": "code",
   "execution_count": 16,
   "id": "991ee73c",
   "metadata": {},
   "outputs": [
    {
     "data": {
      "text/plain": [
       "[4231, 7916, 3098]"
      ]
     },
     "execution_count": 16,
     "metadata": {},
     "output_type": "execute_result"
    }
   ],
   "source": [
    "list(contacts.values())"
   ]
  },
  {
   "cell_type": "markdown",
   "id": "ca099c25",
   "metadata": {},
   "source": [
    "## Get both keys and values (items)"
   ]
  },
  {
   "cell_type": "code",
   "execution_count": 7,
   "id": "c615c398",
   "metadata": {},
   "outputs": [
    {
     "data": {
      "text/plain": [
       "dict_items([('John', 4231), ('Peter', 7916), ('Luke', 3098)])"
      ]
     },
     "execution_count": 7,
     "metadata": {},
     "output_type": "execute_result"
    }
   ],
   "source": [
    "contacts.items()"
   ]
  },
  {
   "cell_type": "markdown",
   "id": "49080e94",
   "metadata": {},
   "source": [
    "> ### Loop through"
   ]
  },
  {
   "cell_type": "code",
   "execution_count": 9,
   "id": "16000752",
   "metadata": {},
   "outputs": [
    {
     "name": "stdout",
     "output_type": "stream",
     "text": [
      "John 4231\n",
      "Peter 7916\n",
      "Luke 3098\n"
     ]
    }
   ],
   "source": [
    "for key, value in contacts.items():\n",
    "    print(key, value)"
   ]
  }
 ],
 "metadata": {
  "kernelspec": {
   "display_name": "Python 3 (ipykernel)",
   "language": "python",
   "name": "python3"
  },
  "language_info": {
   "codemirror_mode": {
    "name": "ipython",
    "version": 3
   },
   "file_extension": ".py",
   "mimetype": "text/x-python",
   "name": "python",
   "nbconvert_exporter": "python",
   "pygments_lexer": "ipython3",
   "version": "3.10.3"
  }
 },
 "nbformat": 4,
 "nbformat_minor": 5
}

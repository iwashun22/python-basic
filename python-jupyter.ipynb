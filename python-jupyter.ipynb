{
 "cells": [
  {
   "cell_type": "code",
   "execution_count": 1,
   "id": "f5856413",
   "metadata": {},
   "outputs": [],
   "source": [
    "lists = [2, 2, 4, 6, 1]"
   ]
  },
  {
   "cell_type": "code",
   "execution_count": 2,
   "id": "7e06e5f5",
   "metadata": {},
   "outputs": [
    {
     "name": "stdout",
     "output_type": "stream",
     "text": [
      "[2, 2, 4, 6, 1]\n"
     ]
    }
   ],
   "source": [
    "print(lists)"
   ]
  },
  {
   "cell_type": "code",
   "execution_count": 4,
   "id": "2cd0a68c",
   "metadata": {},
   "outputs": [
    {
     "name": "stdout",
     "output_type": "stream",
     "text": [
      "1\n"
     ]
    }
   ],
   "source": [
    "print(lists[-1])"
   ]
  },
  {
   "cell_type": "markdown",
   "id": "fb701280",
   "metadata": {},
   "source": [
    "## Above will print the last element of the array"
   ]
  },
  {
   "cell_type": "code",
   "execution_count": 5,
   "id": "54b22803",
   "metadata": {},
   "outputs": [
    {
     "name": "stdout",
     "output_type": "stream",
     "text": [
      "[4, 6, 1]\n"
     ]
    }
   ],
   "source": [
    "print(lists[2:])"
   ]
  },
  {
   "cell_type": "markdown",
   "id": "b4af981b",
   "metadata": {},
   "source": [
    "## Above will print all the element start from index 2 (3rd element)"
   ]
  },
  {
   "cell_type": "markdown",
   "id": "be4f2557",
   "metadata": {},
   "source": [
    "# Concatinate array"
   ]
  },
  {
   "cell_type": "code",
   "execution_count": 6,
   "id": "3b098209",
   "metadata": {},
   "outputs": [
    {
     "name": "stdout",
     "output_type": "stream",
     "text": [
      "[2, 2, 4, 6, 1, 4, 7, 9, 3]\n"
     ]
    }
   ],
   "source": [
    "print(lists + [4, 7, 9, 3])"
   ]
  },
  {
   "cell_type": "code",
   "execution_count": 7,
   "id": "2027c3ff",
   "metadata": {},
   "outputs": [
    {
     "name": "stdout",
     "output_type": "stream",
     "text": [
      "[2, 2, 4, 6, 1]\n"
     ]
    }
   ],
   "source": [
    "print(lists)"
   ]
  },
  {
   "cell_type": "code",
   "execution_count": 8,
   "id": "eca7b0a5",
   "metadata": {},
   "outputs": [],
   "source": [
    "cubes = [1, 8, 27, 65]\n",
    "\n",
    "cubes[3] = 4 ** 3"
   ]
  },
  {
   "cell_type": "code",
   "execution_count": 9,
   "id": "6a795093",
   "metadata": {},
   "outputs": [
    {
     "name": "stdout",
     "output_type": "stream",
     "text": [
      "[1, 8, 27, 64]\n"
     ]
    }
   ],
   "source": [
    "print(cubes)"
   ]
  },
  {
   "cell_type": "code",
   "execution_count": 10,
   "id": "a7109196",
   "metadata": {},
   "outputs": [
    {
     "name": "stdout",
     "output_type": "stream",
     "text": [
      "[1, 8, 27, 64, 125, 216]\n"
     ]
    }
   ],
   "source": [
    "cubes.append(5 ** 3)\n",
    "cubes.append(6 ** 3)\n",
    "print(cubes)"
   ]
  },
  {
   "cell_type": "markdown",
   "id": "47b45b5e",
   "metadata": {},
   "source": [
    "## Above shows the way to append an element to the array"
   ]
  },
  {
   "cell_type": "code",
   "execution_count": null,
   "id": "09afa733",
   "metadata": {},
   "outputs": [],
   "source": []
  }
 ],
 "metadata": {
  "kernelspec": {
   "display_name": "Python 3",
   "language": "python",
   "name": "python3"
  },
  "language_info": {
   "codemirror_mode": {
    "name": "ipython",
    "version": 3
   },
   "file_extension": ".py",
   "mimetype": "text/x-python",
   "name": "python",
   "nbconvert_exporter": "python",
   "pygments_lexer": "ipython3",
   "version": "3.10.3"
  },
  "vscode": {
   "interpreter": {
    "hash": "aee8b7b246df8f9039afb4144a1f6fd8d2ca17a180786b69acc140d282b71a49"
   }
  }
 },
 "nbformat": 4,
 "nbformat_minor": 5
}
